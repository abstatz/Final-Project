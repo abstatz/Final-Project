{
 "cells": [
  {
   "cell_type": "code",
   "execution_count": 42,
   "metadata": {},
   "outputs": [],
   "source": [
    "# Import Dependencies\n",
    "import pyodbc\n",
    "import sqlalchemy\n",
    "from sqlalchemy import create_engine\n",
    "import pandas as pd"
   ]
  },
  {
   "cell_type": "code",
   "execution_count": 43,
   "metadata": {},
   "outputs": [],
   "source": [
    "# Could not get config to work\n",
    "login = 'postgres:postgres'"
   ]
  },
  {
   "cell_type": "code",
   "execution_count": 44,
   "metadata": {},
   "outputs": [],
   "source": [
    "# Connect to DB\n",
    "db_url = 'postgresql://' + login + '@localhost:5432/Bitcoin_Nasdaq'\n",
    "engine = create_engine(db_url)\n",
    "connection = engine.connect()"
   ]
  },
  {
   "cell_type": "code",
   "execution_count": 45,
   "metadata": {},
   "outputs": [
    {
     "data": {
      "text/plain": [
       "['nasdaqs', 'bitcoin']"
      ]
     },
     "execution_count": 45,
     "metadata": {},
     "output_type": "execute_result"
    }
   ],
   "source": [
    "# Reflect an existing database into a new model\n",
    "from sqlalchemy.ext.automap import automap_base\n",
    "Base = automap_base()\n",
    "\n",
    "# Reflect the tables\n",
    "Base.prepare(engine, reflect=True)\n",
    "Base.classes.keys()"
   ]
  },
  {
   "cell_type": "code",
   "execution_count": 46,
   "metadata": {},
   "outputs": [],
   "source": [
    "# Save references to each table\n",
    "Bitcoin = Base.classes.bitcoin\n",
    "Nasdaqs = Base.classes.nasdaqs"
   ]
  },
  {
   "cell_type": "code",
   "execution_count": 47,
   "metadata": {},
   "outputs": [],
   "source": [
    "# Create our session (link) from Python to the DB\n",
    "from sqlalchemy.orm import Session\n",
    "from sqlalchemy import create_engine, func, inspect\n",
    "session = Session(engine)\n",
    "inspector = inspect(engine)"
   ]
  },
  {
   "cell_type": "code",
   "execution_count": 48,
   "metadata": {},
   "outputs": [
    {
     "name": "stdout",
     "output_type": "stream",
     "text": [
      "date DATE\n",
      "opening_price NUMERIC\n",
      "high NUMERIC\n",
      "low NUMERIC\n",
      "closing_price NUMERIC\n"
     ]
    }
   ],
   "source": [
    "# Checking the data-Inspector\n",
    "columns = inspector.get_columns('bitcoin')\n",
    "for column in columns:\n",
    "        print(column[\"name\"], column[\"type\"])"
   ]
  },
  {
   "cell_type": "code",
   "execution_count": 49,
   "metadata": {},
   "outputs": [
    {
     "name": "stdout",
     "output_type": "stream",
     "text": [
      "date DATE\n",
      "opening_price NUMERIC\n",
      "high NUMERIC\n",
      "low NUMERIC\n",
      "closing_price NUMERIC\n",
      "adj_closing NUMERIC\n",
      "volume BIGINT\n"
     ]
    }
   ],
   "source": [
    "# Checking the data-Inspector\n",
    "columns = inspector.get_columns('nasdaqs')\n",
    "for column in columns:\n",
    "        print(column[\"name\"], column[\"type\"])"
   ]
  },
  {
   "cell_type": "code",
   "execution_count": 53,
   "metadata": {},
   "outputs": [
    {
     "name": "stdout",
     "output_type": "stream",
     "text": [
      "2013-09-30\n",
      "2013-10-01\n",
      "2013-10-02\n",
      "2013-10-03\n",
      "2013-10-04\n",
      "2013-10-05\n",
      "2013-10-06\n",
      "2013-10-07\n",
      "2013-10-08\n",
      "2013-10-09\n"
     ]
    }
   ],
   "source": [
    "# Checking the data-Session\n",
    "for row in session.query(Bitcoin).limit(10).all():\n",
    "        print(row.date)"
   ]
  },
  {
   "cell_type": "code",
   "execution_count": 54,
   "metadata": {},
   "outputs": [
    {
     "name": "stdout",
     "output_type": "stream",
     "text": [
      "1971-02-05\n",
      "1971-02-08\n",
      "1971-02-09\n",
      "1971-02-10\n",
      "1971-02-11\n",
      "1971-02-12\n",
      "1971-02-16\n",
      "1971-02-17\n",
      "1971-02-18\n",
      "1971-02-19\n"
     ]
    }
   ],
   "source": [
    "# Checking the data-Session\n",
    "for row in session.query(Nasdaqs).limit(10).all():\n",
    "        print(row.date)"
   ]
  },
  {
   "cell_type": "code",
   "execution_count": null,
   "metadata": {},
   "outputs": [],
   "source": []
  }
 ],
 "metadata": {
  "kernelspec": {
   "display_name": "Python 3",
   "language": "python",
   "name": "python3"
  },
  "language_info": {
   "codemirror_mode": {
    "name": "ipython",
    "version": 3
   },
   "file_extension": ".py",
   "mimetype": "text/x-python",
   "name": "python",
   "nbconvert_exporter": "python",
   "pygments_lexer": "ipython3",
   "version": "3.8.3"
  }
 },
 "nbformat": 4,
 "nbformat_minor": 4
}
