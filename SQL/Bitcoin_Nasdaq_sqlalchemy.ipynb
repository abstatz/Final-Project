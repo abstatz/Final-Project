{
 "cells": [
  {
   "cell_type": "code",
   "execution_count": 140,
   "metadata": {},
   "outputs": [],
   "source": [
    "# Import Dependencies\n",
    "import sqlalchemy\n",
    "from sqlalchemy import create_engine"
   ]
  },
  {
   "cell_type": "code",
   "execution_count": 141,
   "metadata": {},
   "outputs": [],
   "source": [
    "# Connect to DB\n",
    "login = 'postgres:postgres'\n",
    "db_url = 'postgresql://' + login + '@localhost:5432/Bitcoin_Nasdaq'\n",
    "engine = create_engine(db_url)\n",
    "connection = engine.connect()"
   ]
  },
  {
   "cell_type": "code",
   "execution_count": 142,
   "metadata": {},
   "outputs": [
    {
     "data": {
      "text/plain": [
       "['nasdaqs', 'bitcoin']"
      ]
     },
     "execution_count": 142,
     "metadata": {},
     "output_type": "execute_result"
    }
   ],
   "source": [
    "# Reflect DB into a new model\n",
    "from sqlalchemy.ext.automap import automap_base\n",
    "Base = automap_base()\n",
    "\n",
    "# Show tables\n",
    "Base.prepare(engine, reflect=True)\n",
    "Base.classes.keys()"
   ]
  },
  {
   "cell_type": "code",
   "execution_count": 143,
   "metadata": {},
   "outputs": [],
   "source": [
    "# Save references to each table\n",
    "Bitcoin = Base.classes.bitcoin\n",
    "Nasdaqs = Base.classes.nasdaqs"
   ]
  },
  {
   "cell_type": "code",
   "execution_count": 144,
   "metadata": {},
   "outputs": [],
   "source": [
    "# Create link to SQL DB\n",
    "from sqlalchemy.orm import Session\n",
    "from sqlalchemy import create_engine, func, inspect\n",
    "session = Session(engine)\n",
    "inspector = inspect(engine)"
   ]
  },
  {
   "cell_type": "code",
   "execution_count": 145,
   "metadata": {},
   "outputs": [
    {
     "name": "stdout",
     "output_type": "stream",
     "text": [
      "date DATE\n",
      "opening_price NUMERIC\n",
      "high NUMERIC\n",
      "low NUMERIC\n",
      "closing_price NUMERIC\n"
     ]
    }
   ],
   "source": [
    "# Inspector\n",
    "columns = inspector.get_columns('bitcoin')\n",
    "for column in columns:\n",
    "        print(column[\"name\"], column[\"type\"])"
   ]
  },
  {
   "cell_type": "code",
   "execution_count": 146,
   "metadata": {},
   "outputs": [
    {
     "name": "stdout",
     "output_type": "stream",
     "text": [
      "date DATE\n",
      "opening_price NUMERIC\n",
      "high NUMERIC\n",
      "low NUMERIC\n",
      "closing_price NUMERIC\n",
      "adj_closing NUMERIC\n",
      "volume BIGINT\n"
     ]
    }
   ],
   "source": [
    "# Inspector\n",
    "columns = inspector.get_columns('nasdaqs')\n",
    "for column in columns:\n",
    "        print(column[\"name\"], column[\"type\"])"
   ]
  },
  {
   "cell_type": "code",
   "execution_count": 147,
   "metadata": {},
   "outputs": [
    {
     "name": "stdout",
     "output_type": "stream",
     "text": [
      "2013-09-30\n",
      "2013-10-01\n",
      "2013-10-02\n",
      "2013-10-03\n",
      "2013-10-04\n",
      "2013-10-05\n",
      "2013-10-06\n",
      "2013-10-07\n",
      "2013-10-08\n",
      "2013-10-09\n"
     ]
    }
   ],
   "source": [
    "# Session\n",
    "for row in session.query(Bitcoin).limit(10).all():\n",
    "        print(row.date)"
   ]
  },
  {
   "cell_type": "code",
   "execution_count": 148,
   "metadata": {},
   "outputs": [
    {
     "name": "stdout",
     "output_type": "stream",
     "text": [
      "1971-02-05\n",
      "1971-02-08\n",
      "1971-02-09\n",
      "1971-02-10\n",
      "1971-02-11\n",
      "1971-02-12\n",
      "1971-02-16\n",
      "1971-02-17\n",
      "1971-02-18\n",
      "1971-02-19\n"
     ]
    }
   ],
   "source": [
    "# Session\n",
    "for row in session.query(Nasdaqs).limit(10).all():\n",
    "        print(row.date)"
   ]
  },
  {
   "cell_type": "code",
   "execution_count": 149,
   "metadata": {},
   "outputs": [
    {
     "name": "stdout",
     "output_type": "stream",
     "text": [
      "(datetime.date(2021, 2, 4),)\n"
     ]
    }
   ],
   "source": [
    "# Query to retrieve the last 12 months of precipitation data and plot the results\n",
    "last_date_year= session.query(Bitcoin.date).order_by(Bitcoin.date.desc()).first()\n",
    "print(last_date_year)"
   ]
  },
  {
   "cell_type": "code",
   "execution_count": 150,
   "metadata": {},
   "outputs": [
    {
     "name": "stdout",
     "output_type": "stream",
     "text": [
      "2020-02-05\n"
     ]
    }
   ],
   "source": [
    "# Calculate the date 1 year ago from the last data point in the database\n",
    "import datetime as dt\n",
    "year_ago = dt.date(2021, 2, 4) - dt.timedelta(days=365)\n",
    "print(year_ago)"
   ]
  },
  {
   "cell_type": "code",
   "execution_count": 151,
   "metadata": {},
   "outputs": [
    {
     "name": "stdout",
     "output_type": "stream",
     "text": [
      "           closing_price\n",
      "date                    \n",
      "2020-02-05   9625.456637\n",
      "2020-02-06   9681.377411\n",
      "2020-02-07   9795.344066\n",
      "2020-02-08   9927.778256\n",
      "2020-02-09    10132.7065\n",
      "...                  ...\n",
      "2021-01-31   33087.36986\n",
      "2021-02-01   33613.32076\n",
      "2021-02-02   35632.90195\n",
      "2021-02-03   37397.42636\n",
      "2021-02-04   37256.25211\n",
      "\n",
      "[366 rows x 1 columns]\n"
     ]
    }
   ],
   "source": [
    "# Perform a query to retrieve the prices\n",
    "bit_prices = session.query(Bitcoin.date,Bitcoin.closing_price).filter(Bitcoin.date <= dt.date(2021, 2, 4),Bitcoin.date >= dt.date(2020, 2, 5)).all()\n",
    "print(prices)"
   ]
  },
  {
   "cell_type": "code",
   "execution_count": 152,
   "metadata": {},
   "outputs": [
    {
     "data": {
      "text/html": [
       "<div>\n",
       "<style scoped>\n",
       "    .dataframe tbody tr th:only-of-type {\n",
       "        vertical-align: middle;\n",
       "    }\n",
       "\n",
       "    .dataframe tbody tr th {\n",
       "        vertical-align: top;\n",
       "    }\n",
       "\n",
       "    .dataframe thead th {\n",
       "        text-align: right;\n",
       "    }\n",
       "</style>\n",
       "<table border=\"1\" class=\"dataframe\">\n",
       "  <thead>\n",
       "    <tr style=\"text-align: right;\">\n",
       "      <th></th>\n",
       "      <th>closing_price</th>\n",
       "    </tr>\n",
       "    <tr>\n",
       "      <th>date</th>\n",
       "      <th></th>\n",
       "    </tr>\n",
       "  </thead>\n",
       "  <tbody>\n",
       "    <tr>\n",
       "      <th>2020-02-05</th>\n",
       "      <td>9625.456637</td>\n",
       "    </tr>\n",
       "    <tr>\n",
       "      <th>2020-02-06</th>\n",
       "      <td>9681.377411</td>\n",
       "    </tr>\n",
       "    <tr>\n",
       "      <th>2020-02-07</th>\n",
       "      <td>9795.344066</td>\n",
       "    </tr>\n",
       "    <tr>\n",
       "      <th>2020-02-08</th>\n",
       "      <td>9927.778256</td>\n",
       "    </tr>\n",
       "    <tr>\n",
       "      <th>2020-02-09</th>\n",
       "      <td>10132.7065</td>\n",
       "    </tr>\n",
       "  </tbody>\n",
       "</table>\n",
       "</div>"
      ],
      "text/plain": [
       "           closing_price\n",
       "date                    \n",
       "2020-02-05   9625.456637\n",
       "2020-02-06   9681.377411\n",
       "2020-02-07   9795.344066\n",
       "2020-02-08   9927.778256\n",
       "2020-02-09    10132.7065"
      ]
     },
     "execution_count": 152,
     "metadata": {},
     "output_type": "execute_result"
    }
   ],
   "source": [
    "# Save results in DF\n",
    "import pandas as pd\n",
    "bit_prices_df= pd.DataFrame(bit_prices)\n",
    "bit_prices_df.set_index(\"date\", inplace=True)\n",
    "bit_prices_df.head()"
   ]
  },
  {
   "cell_type": "code",
   "execution_count": 153,
   "metadata": {},
   "outputs": [
    {
     "name": "stdout",
     "output_type": "stream",
     "text": [
      "[(datetime.date(2020, 2, 5), Decimal('9508.679688')), (datetime.date(2020, 2, 6), Decimal('9572.150391')), (datetime.date(2020, 2, 7), Decimal('9520.509766')), (datetime.date(2020, 2, 10), Decimal('9628.389648')), (datetime.date(2020, 2, 11), Decimal('9638.94043')), (datetime.date(2020, 2, 12), Decimal('9725.959961')), (datetime.date(2020, 2, 13), Decimal('9711.969727')), (datetime.date(2020, 2, 14), Decimal('9731.179688')), (datetime.date(2020, 2, 18), Decimal('9732.740234')), (datetime.date(2020, 2, 19), Decimal('9817.179688')), (datetime.date(2020, 2, 20), Decimal('9750.969727')), (datetime.date(2020, 2, 21), Decimal('9576.589844')), (datetime.date(2020, 2, 24), Decimal('9221.280273')), (datetime.date(2020, 2, 25), Decimal('8965.610352')), (datetime.date(2020, 2, 26), Decimal('8980.780273')), (datetime.date(2020, 2, 27), Decimal('8566.480469')), (datetime.date(2020, 2, 28), Decimal('8567.370117')), (datetime.date(2020, 3, 2), Decimal('8952.169922')), (datetime.date(2020, 3, 3), Decimal('8684.089844')), (datetime.date(2020, 3, 4), Decimal('9018.089844')), (datetime.date(2020, 3, 5), Decimal('8738.589844')), (datetime.date(2020, 3, 6), Decimal('8575.620117')), (datetime.date(2020, 3, 9), Decimal('7950.680176')), (datetime.date(2020, 3, 10), Decimal('8344.25')), (datetime.date(2020, 3, 11), Decimal('7952.049805')), (datetime.date(2020, 3, 12), Decimal('7201.799805')), (datetime.date(2020, 3, 13), Decimal('7874.879883')), (datetime.date(2020, 3, 16), Decimal('6904.589844')), (datetime.date(2020, 3, 17), Decimal('7334.779785')), (datetime.date(2020, 3, 18), Decimal('6989.839844')), (datetime.date(2020, 3, 19), Decimal('7150.580078')), (datetime.date(2020, 3, 20), Decimal('6879.52002')), (datetime.date(2020, 3, 23), Decimal('6860.669922')), (datetime.date(2020, 3, 24), Decimal('7417.859863')), (datetime.date(2020, 3, 25), Decimal('7384.299805')), (datetime.date(2020, 3, 26), Decimal('7797.540039')), (datetime.date(2020, 3, 27), Decimal('7502.379883')), (datetime.date(2020, 3, 30), Decimal('7774.149902')), (datetime.date(2020, 3, 31), Decimal('7700.100098')), (datetime.date(2020, 4, 1), Decimal('7360.580078')), (datetime.date(2020, 4, 2), Decimal('7487.310059')), (datetime.date(2020, 4, 3), Decimal('7373.080078')), (datetime.date(2020, 4, 6), Decimal('7913.240234')), (datetime.date(2020, 4, 7), Decimal('7887.259766')), (datetime.date(2020, 4, 8), Decimal('8090.899902')), (datetime.date(2020, 4, 9), Decimal('8153.580078')), (datetime.date(2020, 4, 13), Decimal('8192.419922')), (datetime.date(2020, 4, 14), Decimal('8515.740234')), (datetime.date(2020, 4, 15), Decimal('8393.179688')), (datetime.date(2020, 4, 16), Decimal('8532.360352')), (datetime.date(2020, 4, 17), Decimal('8650.139648')), (datetime.date(2020, 4, 20), Decimal('8560.730469')), (datetime.date(2020, 4, 21), Decimal('8263.230469')), (datetime.date(2020, 4, 22), Decimal('8495.379883')), (datetime.date(2020, 4, 23), Decimal('8494.75')), (datetime.date(2020, 4, 24), Decimal('8634.519531')), (datetime.date(2020, 4, 27), Decimal('8730.160156')), (datetime.date(2020, 4, 28), Decimal('8607.730469')), (datetime.date(2020, 4, 29), Decimal('8914.709961')), (datetime.date(2020, 4, 30), Decimal('8889.549805')), (datetime.date(2020, 5, 1), Decimal('8604.950195')), (datetime.date(2020, 5, 4), Decimal('8710.709961')), (datetime.date(2020, 5, 5), Decimal('8809.120117')), (datetime.date(2020, 5, 6), Decimal('8854.389648')), (datetime.date(2020, 5, 7), Decimal('8979.660156')), (datetime.date(2020, 5, 8), Decimal('9121.320313')), (datetime.date(2020, 5, 11), Decimal('9192.339844')), (datetime.date(2020, 5, 12), Decimal('9002.549805')), (datetime.date(2020, 5, 13), Decimal('8863.169922')), (datetime.date(2020, 5, 14), Decimal('8943.719727')), (datetime.date(2020, 5, 15), Decimal('9014.55957')), (datetime.date(2020, 5, 18), Decimal('9234.830078')), (datetime.date(2020, 5, 19), Decimal('9185.099609')), (datetime.date(2020, 5, 20), Decimal('9375.780273')), (datetime.date(2020, 5, 21), Decimal('9284.879883')), (datetime.date(2020, 5, 22), Decimal('9324.589844')), (datetime.date(2020, 5, 26), Decimal('9340.219727')), (datetime.date(2020, 5, 27), Decimal('9412.360352')), (datetime.date(2020, 5, 28), Decimal('9368.990234')), (datetime.date(2020, 5, 29), Decimal('9489.870117')), (datetime.date(2020, 6, 1), Decimal('9552.049805')), (datetime.date(2020, 6, 2), Decimal('9608.379883')), (datetime.date(2020, 6, 3), Decimal('9682.910156')), (datetime.date(2020, 6, 4), Decimal('9615.80957')), (datetime.date(2020, 6, 5), Decimal('9814.080078')), (datetime.date(2020, 6, 8), Decimal('9924.75')), (datetime.date(2020, 6, 9), Decimal('9953.75')), (datetime.date(2020, 6, 10), Decimal('10020.34961')), (datetime.date(2020, 6, 11), Decimal('9492.730469')), (datetime.date(2020, 6, 12), Decimal('9588.80957')), (datetime.date(2020, 6, 15), Decimal('9726.019531')), (datetime.date(2020, 6, 16), Decimal('9895.870117')), (datetime.date(2020, 6, 17), Decimal('9910.530273')), (datetime.date(2020, 6, 18), Decimal('9943.049805')), (datetime.date(2020, 6, 19), Decimal('9946.120117')), (datetime.date(2020, 6, 22), Decimal('10056.48047')), (datetime.date(2020, 6, 23), Decimal('10131.37012')), (datetime.date(2020, 6, 24), Decimal('9909.169922')), (datetime.date(2020, 6, 25), Decimal('10017')), (datetime.date(2020, 6, 26), Decimal('9757.219727')), (datetime.date(2020, 6, 29), Decimal('9874.150391')), (datetime.date(2020, 6, 30), Decimal('10058.76953')), (datetime.date(2020, 7, 1), Decimal('10154.62988')), (datetime.date(2020, 7, 2), Decimal('10207.62988')), (datetime.date(2020, 7, 6), Decimal('10433.65039')), (datetime.date(2020, 7, 7), Decimal('10343.88965')), (datetime.date(2020, 7, 8), Decimal('10492.5')), (datetime.date(2020, 7, 9), Decimal('10547.75')), (datetime.date(2020, 7, 10), Decimal('10617.44043')), (datetime.date(2020, 7, 13), Decimal('10390.83984')), (datetime.date(2020, 7, 14), Decimal('10488.58008')), (datetime.date(2020, 7, 15), Decimal('10550.49023')), (datetime.date(2020, 7, 16), Decimal('10473.83008')), (datetime.date(2020, 7, 17), Decimal('10503.19043')), (datetime.date(2020, 7, 20), Decimal('10767.08984')), (datetime.date(2020, 7, 21), Decimal('10680.36035')), (datetime.date(2020, 7, 22), Decimal('10706.12988')), (datetime.date(2020, 7, 23), Decimal('10461.41992')), (datetime.date(2020, 7, 24), Decimal('10363.17969')), (datetime.date(2020, 7, 27), Decimal('10536.26953')), (datetime.date(2020, 7, 28), Decimal('10402.08984')), (datetime.date(2020, 7, 29), Decimal('10542.94043')), (datetime.date(2020, 7, 30), Decimal('10587.80957')), (datetime.date(2020, 7, 31), Decimal('10745.26953')), (datetime.date(2020, 8, 3), Decimal('10902.79981')), (datetime.date(2020, 8, 4), Decimal('10941.16992')), (datetime.date(2020, 8, 5), Decimal('10998.40039')), (datetime.date(2020, 8, 6), Decimal('11108.07031')), (datetime.date(2020, 8, 7), Decimal('11010.98047')), (datetime.date(2020, 8, 10), Decimal('10968.36035')), (datetime.date(2020, 8, 11), Decimal('10782.82031')), (datetime.date(2020, 8, 12), Decimal('11012.24023')), (datetime.date(2020, 8, 13), Decimal('11042.5')), (datetime.date(2020, 8, 14), Decimal('11019.29981')), (datetime.date(2020, 8, 17), Decimal('11129.73047')), (datetime.date(2020, 8, 18), Decimal('11210.83984')), (datetime.date(2020, 8, 19), Decimal('11146.45996')), (datetime.date(2020, 8, 20), Decimal('11264.9502')), (datetime.date(2020, 8, 21), Decimal('11311.79981')), (datetime.date(2020, 8, 24), Decimal('11379.71973')), (datetime.date(2020, 8, 25), Decimal('11466.46973')), (datetime.date(2020, 8, 26), Decimal('11665.05957')), (datetime.date(2020, 8, 27), Decimal('11625.33984')), (datetime.date(2020, 8, 28), Decimal('11695.62988')), (datetime.date(2020, 8, 31), Decimal('11775.45996')), (datetime.date(2020, 9, 1), Decimal('11939.66992')), (datetime.date(2020, 9, 2), Decimal('12056.44043')), (datetime.date(2020, 9, 3), Decimal('11458.09961')), (datetime.date(2020, 9, 4), Decimal('11313.12988')), (datetime.date(2020, 9, 8), Decimal('10847.69043')), (datetime.date(2020, 9, 9), Decimal('11141.55957')), (datetime.date(2020, 9, 10), Decimal('10919.58984')), (datetime.date(2020, 9, 11), Decimal('10853.54981')), (datetime.date(2020, 9, 14), Decimal('11056.65039')), (datetime.date(2020, 9, 15), Decimal('11190.32031')), (datetime.date(2020, 9, 16), Decimal('11050.46973')), (datetime.date(2020, 9, 17), Decimal('10910.28027')), (datetime.date(2020, 9, 18), Decimal('10793.28027')), (datetime.date(2020, 9, 21), Decimal('10778.79981')), (datetime.date(2020, 9, 22), Decimal('10963.63965')), (datetime.date(2020, 9, 23), Decimal('10632.99023')), (datetime.date(2020, 9, 24), Decimal('10672.26953')), (datetime.date(2020, 9, 25), Decimal('10913.55957')), (datetime.date(2020, 9, 28), Decimal('11117.53027')), (datetime.date(2020, 9, 29), Decimal('11085.25')), (datetime.date(2020, 9, 30), Decimal('11167.50977')), (datetime.date(2020, 10, 1), Decimal('11326.50977')), (datetime.date(2020, 10, 2), Decimal('11075.01953')), (datetime.date(2020, 10, 5), Decimal('11332.49023')), (datetime.date(2020, 10, 6), Decimal('11154.59961')), (datetime.date(2020, 10, 7), Decimal('11364.59961')), (datetime.date(2020, 10, 8), Decimal('11420.98047')), (datetime.date(2020, 10, 9), Decimal('11579.94043')), (datetime.date(2020, 10, 12), Decimal('11876.25977')), (datetime.date(2020, 10, 13), Decimal('11863.90039')), (datetime.date(2020, 10, 14), Decimal('11768.73047')), (datetime.date(2020, 10, 15), Decimal('11713.87012')), (datetime.date(2020, 10, 16), Decimal('11671.55957')), (datetime.date(2020, 10, 19), Decimal('11478.87988')), (datetime.date(2020, 10, 20), Decimal('11516.49023')), (datetime.date(2020, 10, 21), Decimal('11484.69043')), (datetime.date(2020, 10, 22), Decimal('11506.00977')), (datetime.date(2020, 10, 23), Decimal('11548.28027')), (datetime.date(2020, 10, 26), Decimal('11358.94043')), (datetime.date(2020, 10, 27), Decimal('11431.34961')), (datetime.date(2020, 10, 28), Decimal('11004.87012')), (datetime.date(2020, 10, 29), Decimal('11185.58984')), (datetime.date(2020, 10, 30), Decimal('10911.58984')), (datetime.date(2020, 11, 2), Decimal('10957.61035')), (datetime.date(2020, 11, 3), Decimal('11160.57031')), (datetime.date(2020, 11, 4), Decimal('11590.78027')), (datetime.date(2020, 11, 5), Decimal('11890.92969')), (datetime.date(2020, 11, 6), Decimal('11895.23047')), (datetime.date(2020, 11, 9), Decimal('11713.78027')), (datetime.date(2020, 11, 10), Decimal('11553.86035')), (datetime.date(2020, 11, 11), Decimal('11786.42969')), (datetime.date(2020, 11, 12), Decimal('11709.58984')), (datetime.date(2020, 11, 13), Decimal('11829.29004')), (datetime.date(2020, 11, 16), Decimal('11924.12988')), (datetime.date(2020, 11, 17), Decimal('11899.33984')), (datetime.date(2020, 11, 18), Decimal('11801.59961')), (datetime.date(2020, 11, 19), Decimal('11904.70996')), (datetime.date(2020, 11, 20), Decimal('11854.96973')), (datetime.date(2020, 11, 23), Decimal('11880.62988')), (datetime.date(2020, 11, 24), Decimal('12036.79004')), (datetime.date(2020, 11, 25), Decimal('12094.40039')), (datetime.date(2020, 11, 27), Decimal('12205.84961')), (datetime.date(2020, 11, 30), Decimal('12198.74023')), (datetime.date(2020, 12, 1), Decimal('12355.11035')), (datetime.date(2020, 12, 2), Decimal('12349.37012')), (datetime.date(2020, 12, 3), Decimal('12377.17969')), (datetime.date(2020, 12, 4), Decimal('12464.23047')), (datetime.date(2020, 12, 7), Decimal('12519.9502')), (datetime.date(2020, 12, 8), Decimal('12582.76953')), (datetime.date(2020, 12, 9), Decimal('12338.9502')), (datetime.date(2020, 12, 10), Decimal('12405.80957')), (datetime.date(2020, 12, 11), Decimal('12377.87012')), (datetime.date(2020, 12, 14), Decimal('12440.04004')), (datetime.date(2020, 12, 15), Decimal('12595.05957')), (datetime.date(2020, 12, 16), Decimal('12658.19043')), (datetime.date(2020, 12, 17), Decimal('12764.75')), (datetime.date(2020, 12, 18), Decimal('12755.63965')), (datetime.date(2020, 12, 21), Decimal('12742.51953')), (datetime.date(2020, 12, 22), Decimal('12807.91992')), (datetime.date(2020, 12, 23), Decimal('12771.11035')), (datetime.date(2020, 12, 24), Decimal('12804.73047')), (datetime.date(2020, 12, 28), Decimal('12899.41992')), (datetime.date(2020, 12, 29), Decimal('12850.21973')), (datetime.date(2020, 12, 30), Decimal('12870')), (datetime.date(2020, 12, 31), Decimal('12888.28027')), (datetime.date(2021, 1, 4), Decimal('12698.4502')), (datetime.date(2021, 1, 5), Decimal('12818.95996')), (datetime.date(2021, 1, 6), Decimal('12740.79004')), (datetime.date(2021, 1, 7), Decimal('13067.48047')), (datetime.date(2021, 1, 8), Decimal('13201.98047')), (datetime.date(2021, 1, 11), Decimal('13036.42969')), (datetime.date(2021, 1, 12), Decimal('13072.42969')), (datetime.date(2021, 1, 13), Decimal('13128.9502')), (datetime.date(2021, 1, 14), Decimal('13112.63965')), (datetime.date(2021, 1, 15), Decimal('12998.5')), (datetime.date(2021, 1, 19), Decimal('13197.17969')), (datetime.date(2021, 1, 20), Decimal('13457.25')), (datetime.date(2021, 1, 21), Decimal('13530.91016')), (datetime.date(2021, 1, 22), Decimal('13543.05957')), (datetime.date(2021, 1, 25), Decimal('13635.99023')), (datetime.date(2021, 1, 26), Decimal('13626.05957')), (datetime.date(2021, 1, 27), Decimal('13270.59961')), (datetime.date(2021, 1, 28), Decimal('13337.16016')), (datetime.date(2021, 1, 29), Decimal('13070.69043'))]\n"
     ]
    }
   ],
   "source": [
    "# Use same dates for Nasdaq\n",
    "ndaq_prices = session.query(Nasdaqs.date,Nasdaqs.closing_price).filter(Nasdaqs.date <= dt.date(2021, 2, 4),Nasdaqs.date >= dt.date(2020, 2, 5)).all()\n",
    "print(ndaq_prices)"
   ]
  },
  {
   "cell_type": "code",
   "execution_count": 154,
   "metadata": {},
   "outputs": [
    {
     "data": {
      "text/html": [
       "<div>\n",
       "<style scoped>\n",
       "    .dataframe tbody tr th:only-of-type {\n",
       "        vertical-align: middle;\n",
       "    }\n",
       "\n",
       "    .dataframe tbody tr th {\n",
       "        vertical-align: top;\n",
       "    }\n",
       "\n",
       "    .dataframe thead th {\n",
       "        text-align: right;\n",
       "    }\n",
       "</style>\n",
       "<table border=\"1\" class=\"dataframe\">\n",
       "  <thead>\n",
       "    <tr style=\"text-align: right;\">\n",
       "      <th></th>\n",
       "      <th>closing_price</th>\n",
       "    </tr>\n",
       "    <tr>\n",
       "      <th>date</th>\n",
       "      <th></th>\n",
       "    </tr>\n",
       "  </thead>\n",
       "  <tbody>\n",
       "    <tr>\n",
       "      <th>2020-02-05</th>\n",
       "      <td>9508.679688</td>\n",
       "    </tr>\n",
       "    <tr>\n",
       "      <th>2020-02-06</th>\n",
       "      <td>9572.150391</td>\n",
       "    </tr>\n",
       "    <tr>\n",
       "      <th>2020-02-07</th>\n",
       "      <td>9520.509766</td>\n",
       "    </tr>\n",
       "    <tr>\n",
       "      <th>2020-02-10</th>\n",
       "      <td>9628.389648</td>\n",
       "    </tr>\n",
       "    <tr>\n",
       "      <th>2020-02-11</th>\n",
       "      <td>9638.94043</td>\n",
       "    </tr>\n",
       "  </tbody>\n",
       "</table>\n",
       "</div>"
      ],
      "text/plain": [
       "           closing_price\n",
       "date                    \n",
       "2020-02-05   9508.679688\n",
       "2020-02-06   9572.150391\n",
       "2020-02-07   9520.509766\n",
       "2020-02-10   9628.389648\n",
       "2020-02-11    9638.94043"
      ]
     },
     "execution_count": 154,
     "metadata": {},
     "output_type": "execute_result"
    }
   ],
   "source": [
    "# Save results in DF\n",
    "ndaq_prices_df= pd.DataFrame(ndaq_prices)\n",
    "ndaq_prices_df.set_index(\"date\", inplace=True)\n",
    "ndaq_prices_df.head()"
   ]
  },
  {
   "cell_type": "code",
   "execution_count": 155,
   "metadata": {},
   "outputs": [
    {
     "data": {
      "text/html": [
       "<div>\n",
       "<style scoped>\n",
       "    .dataframe tbody tr th:only-of-type {\n",
       "        vertical-align: middle;\n",
       "    }\n",
       "\n",
       "    .dataframe tbody tr th {\n",
       "        vertical-align: top;\n",
       "    }\n",
       "\n",
       "    .dataframe thead th {\n",
       "        text-align: right;\n",
       "    }\n",
       "</style>\n",
       "<table border=\"1\" class=\"dataframe\">\n",
       "  <thead>\n",
       "    <tr style=\"text-align: right;\">\n",
       "      <th></th>\n",
       "      <th>closing_price</th>\n",
       "    </tr>\n",
       "  </thead>\n",
       "  <tbody>\n",
       "    <tr>\n",
       "      <th>count</th>\n",
       "      <td>249</td>\n",
       "    </tr>\n",
       "    <tr>\n",
       "      <th>unique</th>\n",
       "      <td>249</td>\n",
       "    </tr>\n",
       "    <tr>\n",
       "      <th>top</th>\n",
       "      <td>10550.49023</td>\n",
       "    </tr>\n",
       "    <tr>\n",
       "      <th>freq</th>\n",
       "      <td>1</td>\n",
       "    </tr>\n",
       "  </tbody>\n",
       "</table>\n",
       "</div>"
      ],
      "text/plain": [
       "       closing_price\n",
       "count            249\n",
       "unique           249\n",
       "top      10550.49023\n",
       "freq               1"
      ]
     },
     "execution_count": 155,
     "metadata": {},
     "output_type": "execute_result"
    }
   ],
   "source": [
    "# Calculate summary statistics for NDAQ\n",
    "ndaq_prices_df.describe()"
   ]
  },
  {
   "cell_type": "code",
   "execution_count": 156,
   "metadata": {},
   "outputs": [
    {
     "data": {
      "text/html": [
       "<div>\n",
       "<style scoped>\n",
       "    .dataframe tbody tr th:only-of-type {\n",
       "        vertical-align: middle;\n",
       "    }\n",
       "\n",
       "    .dataframe tbody tr th {\n",
       "        vertical-align: top;\n",
       "    }\n",
       "\n",
       "    .dataframe thead th {\n",
       "        text-align: right;\n",
       "    }\n",
       "</style>\n",
       "<table border=\"1\" class=\"dataframe\">\n",
       "  <thead>\n",
       "    <tr style=\"text-align: right;\">\n",
       "      <th></th>\n",
       "      <th>closing_price</th>\n",
       "    </tr>\n",
       "  </thead>\n",
       "  <tbody>\n",
       "    <tr>\n",
       "      <th>count</th>\n",
       "      <td>366</td>\n",
       "    </tr>\n",
       "    <tr>\n",
       "      <th>unique</th>\n",
       "      <td>366</td>\n",
       "    </tr>\n",
       "    <tr>\n",
       "      <th>top</th>\n",
       "      <td>7875.750875</td>\n",
       "    </tr>\n",
       "    <tr>\n",
       "      <th>freq</th>\n",
       "      <td>1</td>\n",
       "    </tr>\n",
       "  </tbody>\n",
       "</table>\n",
       "</div>"
      ],
      "text/plain": [
       "       closing_price\n",
       "count            366\n",
       "unique           366\n",
       "top      7875.750875\n",
       "freq               1"
      ]
     },
     "execution_count": 156,
     "metadata": {},
     "output_type": "execute_result"
    }
   ],
   "source": [
    "# Calculate the summary statistics for Bitcoin\n",
    "bit_prices_df.describe()"
   ]
  },
  {
   "cell_type": "code",
   "execution_count": 157,
   "metadata": {},
   "outputs": [
    {
     "data": {
      "text/plain": [
       "closing_price    13649.986839\n",
       "dtype: float64"
      ]
     },
     "execution_count": 157,
     "metadata": {},
     "output_type": "execute_result"
    }
   ],
   "source": [
    "# Bitcoin- Mean, Median, Max, Min between 2020-2021\n",
    "mean_bit = bit_prices_df.mean()\n",
    "mean_bit"
   ]
  },
  {
   "cell_type": "code",
   "execution_count": 158,
   "metadata": {},
   "outputs": [
    {
     "data": {
      "text/plain": [
       "closing_price    10481.28415\n",
       "dtype: float64"
      ]
     },
     "execution_count": 158,
     "metadata": {},
     "output_type": "execute_result"
    }
   ],
   "source": [
    "median_bit = bit_prices_df.median()\n",
    "median_bit"
   ]
  },
  {
   "cell_type": "code",
   "execution_count": 159,
   "metadata": {},
   "outputs": [
    {
     "data": {
      "text/plain": [
       "closing_price    40519.4486\n",
       "dtype: float64"
      ]
     },
     "execution_count": 159,
     "metadata": {},
     "output_type": "execute_result"
    }
   ],
   "source": [
    "max_bit = bit_prices_df.max()\n",
    "max_bit"
   ]
  },
  {
   "cell_type": "code",
   "execution_count": 160,
   "metadata": {},
   "outputs": [
    {
     "data": {
      "text/plain": [
       "closing_price    4944.702336\n",
       "dtype: float64"
      ]
     },
     "execution_count": 160,
     "metadata": {},
     "output_type": "execute_result"
    }
   ],
   "source": [
    "min_bit = bit_prices_df.min()\n",
    "min_bit"
   ]
  },
  {
   "cell_type": "code",
   "execution_count": 161,
   "metadata": {},
   "outputs": [
    {
     "data": {
      "text/plain": [
       "closing_price    10517.609269\n",
       "dtype: float64"
      ]
     },
     "execution_count": 161,
     "metadata": {},
     "output_type": "execute_result"
    }
   ],
   "source": [
    "# Nasdaq- Mean, Median, Max, Min between 2020-2021\n",
    "mean_ndaq = ndaq_prices_df.mean()\n",
    "mean_ndaq"
   ]
  },
  {
   "cell_type": "code",
   "execution_count": 162,
   "metadata": {},
   "outputs": [
    {
     "data": {
      "text/plain": [
       "closing_price    10745.26953\n",
       "dtype: float64"
      ]
     },
     "execution_count": 162,
     "metadata": {},
     "output_type": "execute_result"
    }
   ],
   "source": [
    "median_ndaq = ndaq_prices_df.median()\n",
    "median_ndaq"
   ]
  },
  {
   "cell_type": "code",
   "execution_count": 163,
   "metadata": {},
   "outputs": [
    {
     "data": {
      "text/plain": [
       "closing_price    13635.99023\n",
       "dtype: float64"
      ]
     },
     "execution_count": 163,
     "metadata": {},
     "output_type": "execute_result"
    }
   ],
   "source": [
    "max_ndaq = ndaq_prices_df.max()\n",
    "max_ndaq"
   ]
  },
  {
   "cell_type": "code",
   "execution_count": 164,
   "metadata": {},
   "outputs": [
    {
     "data": {
      "text/plain": [
       "closing_price    6860.669922\n",
       "dtype: float64"
      ]
     },
     "execution_count": 164,
     "metadata": {},
     "output_type": "execute_result"
    }
   ],
   "source": [
    "min_ndaq = ndaq_prices_df.min()\n",
    "min_ndaq"
   ]
  },
  {
   "cell_type": "code",
   "execution_count": 165,
   "metadata": {},
   "outputs": [],
   "source": [
    "# Import Dependencies\n",
    "%matplotlib inline\n",
    "import matplotlib.pyplot as plt"
   ]
  }
 ],
 "metadata": {
  "kernelspec": {
   "display_name": "Python 3",
   "language": "python",
   "name": "python3"
  },
  "language_info": {
   "codemirror_mode": {
    "name": "ipython",
    "version": 3
   },
   "file_extension": ".py",
   "mimetype": "text/x-python",
   "name": "python",
   "nbconvert_exporter": "python",
   "pygments_lexer": "ipython3",
   "version": "3.8.3"
  }
 },
 "nbformat": 4,
 "nbformat_minor": 4
}
