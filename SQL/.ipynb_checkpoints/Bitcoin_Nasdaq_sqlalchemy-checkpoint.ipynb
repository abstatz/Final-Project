{
 "cells": [
  {
   "cell_type": "code",
   "execution_count": 42,
   "metadata": {},
   "outputs": [],
   "source": [
    "# Import Dependencies\n",
    "import pyodbc\n",
    "import sqlalchemy\n",
    "from sqlalchemy import create_engine\n",
    "import pandas as pd"
   ]
  },
  {
   "cell_type": "code",
   "execution_count": 61,
   "metadata": {},
   "outputs": [],
   "source": [
    "login = 'postgres:postgres'"
   ]
  },
  {
   "cell_type": "code",
   "execution_count": 44,
   "metadata": {},
   "outputs": [],
   "source": [
    "# Connect to DB\n",
    "db_url = 'postgresql://' + login + '@localhost:5432/Bitcoin_Nasdaq'\n",
    "engine = create_engine(db_url)\n",
    "connection = engine.connect()"
   ]
  },
  {
   "cell_type": "code",
   "execution_count": 45,
   "metadata": {},
   "outputs": [
    {
     "data": {
      "text/plain": [
       "['nasdaqs', 'bitcoin']"
      ]
     },
     "execution_count": 45,
     "metadata": {},
     "output_type": "execute_result"
    }
   ],
   "source": [
    "# Reflect DB into a new model\n",
    "from sqlalchemy.ext.automap import automap_base\n",
    "Base = automap_base()\n",
    "\n",
    "# Show tables\n",
    "Base.prepare(engine, reflect=True)\n",
    "Base.classes.keys()"
   ]
  },
  {
   "cell_type": "code",
   "execution_count": 46,
   "metadata": {},
   "outputs": [],
   "source": [
    "# Save references to each table\n",
    "Bitcoin = Base.classes.bitcoin\n",
    "Nasdaqs = Base.classes.nasdaqs"
   ]
  },
  {
   "cell_type": "code",
   "execution_count": 47,
   "metadata": {},
   "outputs": [],
   "source": [
    "# Create link to SQL DB\n",
    "from sqlalchemy.orm import Session\n",
    "from sqlalchemy import create_engine, func, inspect\n",
    "session = Session(engine)\n",
    "inspector = inspect(engine)"
   ]
  },
  {
   "cell_type": "code",
   "execution_count": 48,
   "metadata": {},
   "outputs": [
    {
     "name": "stdout",
     "output_type": "stream",
     "text": [
      "date DATE\n",
      "opening_price NUMERIC\n",
      "high NUMERIC\n",
      "low NUMERIC\n",
      "closing_price NUMERIC\n"
     ]
    }
   ],
   "source": [
    "# Inspector\n",
    "columns = inspector.get_columns('bitcoin')\n",
    "for column in columns:\n",
    "        print(column[\"name\"], column[\"type\"])"
   ]
  },
  {
   "cell_type": "code",
   "execution_count": 49,
   "metadata": {},
   "outputs": [
    {
     "name": "stdout",
     "output_type": "stream",
     "text": [
      "date DATE\n",
      "opening_price NUMERIC\n",
      "high NUMERIC\n",
      "low NUMERIC\n",
      "closing_price NUMERIC\n",
      "adj_closing NUMERIC\n",
      "volume BIGINT\n"
     ]
    }
   ],
   "source": [
    "# Inspector\n",
    "columns = inspector.get_columns('nasdaqs')\n",
    "for column in columns:\n",
    "        print(column[\"name\"], column[\"type\"])"
   ]
  },
  {
   "cell_type": "code",
   "execution_count": 53,
   "metadata": {},
   "outputs": [
    {
     "name": "stdout",
     "output_type": "stream",
     "text": [
      "2013-09-30\n",
      "2013-10-01\n",
      "2013-10-02\n",
      "2013-10-03\n",
      "2013-10-04\n",
      "2013-10-05\n",
      "2013-10-06\n",
      "2013-10-07\n",
      "2013-10-08\n",
      "2013-10-09\n"
     ]
    }
   ],
   "source": [
    "# Session\n",
    "for row in session.query(Bitcoin).limit(10).all():\n",
    "        print(row.date)"
   ]
  },
  {
   "cell_type": "code",
   "execution_count": 54,
   "metadata": {},
   "outputs": [
    {
     "name": "stdout",
     "output_type": "stream",
     "text": [
      "1971-02-05\n",
      "1971-02-08\n",
      "1971-02-09\n",
      "1971-02-10\n",
      "1971-02-11\n",
      "1971-02-12\n",
      "1971-02-16\n",
      "1971-02-17\n",
      "1971-02-18\n",
      "1971-02-19\n"
     ]
    }
   ],
   "source": [
    "# Session\n",
    "for row in session.query(Nasdaqs).limit(10).all():\n",
    "        print(row.date)"
   ]
  },
  {
   "cell_type": "code",
   "execution_count": 55,
   "metadata": {},
   "outputs": [
    {
     "name": "stdout",
     "output_type": "stream",
     "text": [
      "(datetime.date(2021, 2, 4),)\n"
     ]
    }
   ],
   "source": [
    "# Query to retrieve the last 12 months of precipitation data and plot the results\n",
    "last_date_year= session.query(Bitcoin.date).order_by(Bitcoin.date.desc()).first()\n",
    "print(last_date_year)"
   ]
  },
  {
   "cell_type": "code",
   "execution_count": 59,
   "metadata": {},
   "outputs": [
    {
     "name": "stdout",
     "output_type": "stream",
     "text": [
      "2020-02-05\n"
     ]
    }
   ],
   "source": [
    "# Calculate the date 1 year ago from the last data point in the database\n",
    "import datetime as dt\n",
    "year_ago = dt.date(2021, 2, 4) - dt.timedelta(days=365)\n",
    "print(year_ago)"
   ]
  },
  {
   "cell_type": "code",
   "execution_count": 65,
   "metadata": {},
   "outputs": [
    {
     "name": "stdout",
     "output_type": "stream",
     "text": [
      "[(datetime.date(2020, 2, 5), Decimal('9625.456637')), (datetime.date(2020, 2, 6), Decimal('9681.377411')), (datetime.date(2020, 2, 7), Decimal('9795.344066')), (datetime.date(2020, 2, 8), Decimal('9927.778256')), (datetime.date(2020, 2, 9), Decimal('10132.7065')), (datetime.date(2020, 2, 10), Decimal('9838.900016')), (datetime.date(2020, 2, 11), Decimal('10236.63515')), (datetime.date(2020, 2, 12), Decimal('10364.92629')), (datetime.date(2020, 2, 13), Decimal('10218.09974')), (datetime.date(2020, 2, 14), Decimal('10367.528')), (datetime.date(2020, 2, 15), Decimal('9926.353691')), (datetime.date(2020, 2, 16), Decimal('9876.234963')), (datetime.date(2020, 2, 17), Decimal('9636.624095')), (datetime.date(2020, 2, 18), Decimal('10189.99598')), (datetime.date(2020, 2, 19), Decimal('9701.037191')), (datetime.date(2020, 2, 20), Decimal('9631.484946')), (datetime.date(2020, 2, 21), Decimal('9670.858654')), (datetime.date(2020, 2, 22), Decimal('9689.086743')), (datetime.date(2020, 2, 23), Decimal('9919.551448')), (datetime.date(2020, 2, 24), Decimal('9640.469505')), (datetime.date(2020, 2, 25), Decimal('9392.869629')), (datetime.date(2020, 2, 26), Decimal('8787.978363')), (datetime.date(2020, 2, 27), Decimal('8784.995352')), (datetime.date(2020, 2, 28), Decimal('8778.470511')), (datetime.date(2020, 2, 29), Decimal('8639.591417')), (datetime.date(2020, 3, 1), Decimal('8548.948322')), (datetime.date(2020, 3, 2), Decimal('8923.044398')), (datetime.date(2020, 3, 3), Decimal('8791.112058')), (datetime.date(2020, 3, 4), Decimal('8756.961062')), (datetime.date(2020, 3, 5), Decimal('9078.578777')), (datetime.date(2020, 3, 6), Decimal('9126.636822')), (datetime.date(2020, 3, 7), Decimal('8925.213488')), (datetime.date(2020, 3, 8), Decimal('8166.313894')), (datetime.date(2020, 3, 9), Decimal('7875.750875')), (datetime.date(2020, 3, 10), Decimal('7959.228274')), (datetime.date(2020, 3, 11), Decimal('7955.306284')), (datetime.date(2020, 3, 12), Decimal('5800.208905')), (datetime.date(2020, 3, 13), Decimal('5672.681201')), (datetime.date(2020, 3, 14), Decimal('5304.149952')), (datetime.date(2020, 3, 15), Decimal('5355.187374')), (datetime.date(2020, 3, 16), Decimal('4944.702336')), (datetime.date(2020, 3, 17), Decimal('5465.582594')), (datetime.date(2020, 3, 18), Decimal('5363.822853')), (datetime.date(2020, 3, 19), Decimal('6301.063404')), (datetime.date(2020, 3, 20), Decimal('6185.279839')), (datetime.date(2020, 3, 21), Decimal('6187.05375')), (datetime.date(2020, 3, 22), Decimal('5884.340133')), (datetime.date(2020, 3, 23), Decimal('6455.454688')), (datetime.date(2020, 3, 24), Decimal('6784.318011')), (datetime.date(2020, 3, 25), Decimal('6706.985089')), (datetime.date(2020, 3, 26), Decimal('6721.495392')), (datetime.date(2020, 3, 27), Decimal('6682.780049')), (datetime.date(2020, 3, 28), Decimal('6229.488343')), (datetime.date(2020, 3, 29), Decimal('5922.489835')), (datetime.date(2020, 3, 30), Decimal('6483.739446')), (datetime.date(2020, 3, 31), Decimal('6446.421347')), (datetime.date(2020, 4, 1), Decimal('6537.336462')), (datetime.date(2020, 4, 2), Decimal('6850.558712')), (datetime.date(2020, 4, 3), Decimal('6776.370094')), (datetime.date(2020, 4, 4), Decimal('6855.933264')), (datetime.date(2020, 4, 5), Decimal('6805.362287')), (datetime.date(2020, 4, 6), Decimal('7278.24397')), (datetime.date(2020, 4, 7), Decimal('7175.667477')), (datetime.date(2020, 4, 8), Decimal('7367.293398')), (datetime.date(2020, 4, 9), Decimal('7321.816614')), (datetime.date(2020, 4, 10), Decimal('6866.398189')), (datetime.date(2020, 4, 11), Decimal('6873.848495')), (datetime.date(2020, 4, 12), Decimal('7043.438864')), (datetime.date(2020, 4, 13), Decimal('6889.863772')), (datetime.date(2020, 4, 14), Decimal('6887.554908')), (datetime.date(2020, 4, 15), Decimal('6718.79995')), (datetime.date(2020, 4, 16), Decimal('7166.582817')), (datetime.date(2020, 4, 17), Decimal('7065.082389')), (datetime.date(2020, 4, 18), Decimal('7277.140586')), (datetime.date(2020, 4, 19), Decimal('7185.870303')), (datetime.date(2020, 4, 20), Decimal('6856.146435')), (datetime.date(2020, 4, 21), Decimal('6904.475773')), (datetime.date(2020, 4, 22), Decimal('7118.388748')), (datetime.date(2020, 4, 23), Decimal('7562.032832')), (datetime.date(2020, 4, 24), Decimal('7497.861764')), (datetime.date(2020, 4, 25), Decimal('7542.303401')), (datetime.date(2020, 4, 26), Decimal('7624.853786')), (datetime.date(2020, 4, 27), Decimal('7776.507543')), (datetime.date(2020, 4, 28), Decimal('7761.758784')), (datetime.date(2020, 4, 29), Decimal('8773.106488')), (datetime.date(2020, 4, 30), Decimal('8767.672623')), (datetime.date(2020, 5, 1), Decimal('8853.774484')), (datetime.date(2020, 5, 2), Decimal('8963.057558')), (datetime.date(2020, 5, 3), Decimal('8904.713817')), (datetime.date(2020, 5, 4), Decimal('8887.505893')), (datetime.date(2020, 5, 5), Decimal('8978.283587')), (datetime.date(2020, 5, 6), Decimal('9371.684273')), (datetime.date(2020, 5, 7), Decimal('9900.678867')), (datetime.date(2020, 5, 8), Decimal('9917.248414')), (datetime.date(2020, 5, 9), Decimal('9617.518195')), (datetime.date(2020, 5, 10), Decimal('8786.655182')), (datetime.date(2020, 5, 11), Decimal('8608.125245')), (datetime.date(2020, 5, 12), Decimal('8815.231245')), (datetime.date(2020, 5, 13), Decimal('9330.986485')), (datetime.date(2020, 5, 14), Decimal('9757.296586')), (datetime.date(2020, 5, 15), Decimal('9362.635557')), (datetime.date(2020, 5, 16), Decimal('9418.918551')), (datetime.date(2020, 5, 17), Decimal('9684.701959')), (datetime.date(2020, 5, 18), Decimal('9723.68015')), (datetime.date(2020, 5, 19), Decimal('9719.480854')), (datetime.date(2020, 5, 20), Decimal('9540.886567')), (datetime.date(2020, 5, 21), Decimal('9141.150637')), (datetime.date(2020, 5, 22), Decimal('9192.845136')), (datetime.date(2020, 5, 23), Decimal('9220.075887')), (datetime.date(2020, 5, 24), Decimal('9048.715119')), (datetime.date(2020, 5, 25), Decimal('8905.781605')), (datetime.date(2020, 5, 26), Decimal('8835.727224')), (datetime.date(2020, 5, 27), Decimal('9112.979176')), (datetime.date(2020, 5, 28), Decimal('9507.524665')), (datetime.date(2020, 5, 29), Decimal('9425.281869')), (datetime.date(2020, 5, 30), Decimal('9688.32439')), (datetime.date(2020, 5, 31), Decimal('9427.670084')), (datetime.date(2020, 6, 1), Decimal('10268.58198')), (datetime.date(2020, 6, 2), Decimal('9516.135443')), (datetime.date(2020, 6, 3), Decimal('9667.060754')), (datetime.date(2020, 6, 4), Decimal('9811.367095')), (datetime.date(2020, 6, 5), Decimal('9659.661298')), (datetime.date(2020, 6, 6), Decimal('9677.050995')), (datetime.date(2020, 6, 7), Decimal('9737.458559')), (datetime.date(2020, 6, 8), Decimal('9791.9279')), (datetime.date(2020, 6, 9), Decimal('9786.14202')), (datetime.date(2020, 6, 10), Decimal('9874.967048')), (datetime.date(2020, 6, 11), Decimal('9260.832641')), (datetime.date(2020, 6, 12), Decimal('9464.228097')), (datetime.date(2020, 6, 13), Decimal('9458.659754')), (datetime.date(2020, 6, 14), Decimal('9351.953728')), (datetime.date(2020, 6, 15), Decimal('9441.768996')), (datetime.date(2020, 6, 16), Decimal('9510.660637')), (datetime.date(2020, 6, 17), Decimal('9457.627074')), (datetime.date(2020, 6, 18), Decimal('9398.642094')), (datetime.date(2020, 6, 19), Decimal('9279.760765')), (datetime.date(2020, 6, 20), Decimal('9353.078196')), (datetime.date(2020, 6, 21), Decimal('9289.104491')), (datetime.date(2020, 6, 22), Decimal('9680.947128')), (datetime.date(2020, 6, 23), Decimal('9609.680246')), (datetime.date(2020, 6, 24), Decimal('9311.136318')), (datetime.date(2020, 6, 25), Decimal('9252.633372')), (datetime.date(2020, 6, 26), Decimal('9171.732086')), (datetime.date(2020, 6, 27), Decimal('9022.153768')), (datetime.date(2020, 6, 28), Decimal('9101.850057')), (datetime.date(2020, 6, 29), Decimal('9188.061375')), (datetime.date(2020, 6, 30), Decimal('9148.444859')), (datetime.date(2020, 7, 1), Decimal('9236.31677')), (datetime.date(2020, 7, 2), Decimal('9097.797366')), (datetime.date(2020, 7, 3), Decimal('9094.324561')), (datetime.date(2020, 7, 4), Decimal('9124.653534')), (datetime.date(2020, 7, 5), Decimal('9055.464483')), (datetime.date(2020, 7, 6), Decimal('9278.805637')), (datetime.date(2020, 7, 7), Decimal('9244.415815')), (datetime.date(2020, 7, 8), Decimal('9471.759973')), (datetime.date(2020, 7, 9), Decimal('9236.143254')), (datetime.date(2020, 7, 10), Decimal('9243.175259')), (datetime.date(2020, 7, 11), Decimal('9229.859755')), (datetime.date(2020, 7, 12), Decimal('9286.737042')), (datetime.date(2020, 7, 13), Decimal('9238.993755')), (datetime.date(2020, 7, 14), Decimal('9260.47098')), (datetime.date(2020, 7, 15), Decimal('9211.026433')), (datetime.date(2020, 7, 16), Decimal('9133.77783')), (datetime.date(2020, 7, 17), Decimal('9160.410591')), (datetime.date(2020, 7, 18), Decimal('9176.68639')), (datetime.date(2020, 7, 19), Decimal('9190.271534')), (datetime.date(2020, 7, 20), Decimal('9172.588333')), (datetime.date(2020, 7, 21), Decimal('9395.064446')), (datetime.date(2020, 7, 22), Decimal('9530.790885')), (datetime.date(2020, 7, 23), Decimal('9617.377861')), (datetime.date(2020, 7, 24), Decimal('9568.974726')), (datetime.date(2020, 7, 25), Decimal('9708.94914')), (datetime.date(2020, 7, 26), Decimal('9938.951223')), (datetime.date(2020, 7, 27), Decimal('11187.77973')), (datetime.date(2020, 7, 28), Decimal('10939.67014')), (datetime.date(2020, 7, 29), Decimal('11284.45899')), (datetime.date(2020, 7, 30), Decimal('11118.91841')), (datetime.date(2020, 7, 31), Decimal('11373.31726')), (datetime.date(2020, 8, 1), Decimal('11766.7483')), (datetime.date(2020, 8, 2), Decimal('11139.09838')), (datetime.date(2020, 8, 3), Decimal('11261.80633')), (datetime.date(2020, 8, 4), Decimal('11228.02632')), (datetime.date(2020, 8, 5), Decimal('11653.40759')), (datetime.date(2020, 8, 6), Decimal('11796.81736')), (datetime.date(2020, 8, 7), Decimal('11639.93541')), (datetime.date(2020, 8, 8), Decimal('11744.91208')), (datetime.date(2020, 8, 9), Decimal('11673.12324')), (datetime.date(2020, 8, 10), Decimal('11832.22731')), (datetime.date(2020, 8, 11), Decimal('11340.58234')), (datetime.date(2020, 8, 12), Decimal('11549.54631')), (datetime.date(2020, 8, 13), Decimal('11752.16866')), (datetime.date(2020, 8, 14), Decimal('11783.28341')), (datetime.date(2020, 8, 15), Decimal('11895.62695')), (datetime.date(2020, 8, 16), Decimal('11896.94717')), (datetime.date(2020, 8, 17), Decimal('12399.11188')), (datetime.date(2020, 8, 18), Decimal('12071.73891')), (datetime.date(2020, 8, 19), Decimal('11749.82951')), (datetime.date(2020, 8, 20), Decimal('11833.89735')), (datetime.date(2020, 8, 21), Decimal('11583.13894')), (datetime.date(2020, 8, 22), Decimal('11674.62435')), (datetime.date(2020, 8, 23), Decimal('11666.41012')), (datetime.date(2020, 8, 24), Decimal('11744.0127')), (datetime.date(2020, 8, 25), Decimal('11378.72603')), (datetime.date(2020, 8, 26), Decimal('11458.8226')), (datetime.date(2020, 8, 27), Decimal('11302.12096')), (datetime.date(2020, 8, 28), Decimal('11482.22569')), (datetime.date(2020, 8, 29), Decimal('11515.04443')), (datetime.date(2020, 8, 30), Decimal('11657.00393')), (datetime.date(2020, 8, 31), Decimal('11678.37326')), (datetime.date(2020, 9, 1), Decimal('11964.20867')), (datetime.date(2020, 9, 2), Decimal('11427.7026')), (datetime.date(2020, 9, 3), Decimal('10712.92065')), (datetime.date(2020, 9, 4), Decimal('10563.89694')), (datetime.date(2020, 9, 5), Decimal('10042.85485')), (datetime.date(2020, 9, 6), Decimal('10207.605')), (datetime.date(2020, 9, 7), Decimal('10381.77611')), (datetime.date(2020, 9, 8), Decimal('10043.19644')), (datetime.date(2020, 9, 9), Decimal('10268.46092')), (datetime.date(2020, 9, 10), Decimal('10341.01598')), (datetime.date(2020, 9, 11), Decimal('10380.5396')), (datetime.date(2020, 9, 12), Decimal('10436.36541')), (datetime.date(2020, 9, 13), Decimal('10313.06858')), (datetime.date(2020, 9, 14), Decimal('10680.29756')), (datetime.date(2020, 9, 15), Decimal('10829.50531')), (datetime.date(2020, 9, 16), Decimal('11033.38353')), (datetime.date(2020, 9, 17), Decimal('10937.11126')), (datetime.date(2020, 9, 18), Decimal('10933.93116')), (datetime.date(2020, 9, 19), Decimal('11048.87928')), (datetime.date(2020, 9, 20), Decimal('10852.91014')), (datetime.date(2020, 9, 21), Decimal('10526.20289')), (datetime.date(2020, 9, 22), Decimal('10531.16456')), (datetime.date(2020, 9, 23), Decimal('10260.03301')), (datetime.date(2020, 9, 24), Decimal('10672.95681')), (datetime.date(2020, 9, 25), Decimal('10729.06961')), (datetime.date(2020, 9, 26), Decimal('10741.47647')), (datetime.date(2020, 9, 27), Decimal('10752.34545')), (datetime.date(2020, 9, 28), Decimal('10863.06572')), (datetime.date(2020, 9, 29), Decimal('10764.28437')), (datetime.date(2020, 9, 30), Decimal('10741.57955')), (datetime.date(2020, 10, 1), Decimal('10626.60096')), (datetime.date(2020, 10, 2), Decimal('10567.3302')), (datetime.date(2020, 10, 3), Decimal('10555.02868')), (datetime.date(2020, 10, 4), Decimal('10660.61118')), (datetime.date(2020, 10, 5), Decimal('10756.40458')), (datetime.date(2020, 10, 6), Decimal('10589.62639')), (datetime.date(2020, 10, 7), Decimal('10645.75479')), (datetime.date(2020, 10, 8), Decimal('10897.59543')), (datetime.date(2020, 10, 9), Decimal('11052.39508')), (datetime.date(2020, 10, 10), Decimal('11360.85272')), (datetime.date(2020, 10, 11), Decimal('11334.02674')), (datetime.date(2020, 10, 12), Decimal('11666.2117')), (datetime.date(2020, 10, 13), Decimal('11443.73279')), (datetime.date(2020, 10, 14), Decimal('11395.54737')), (datetime.date(2020, 10, 15), Decimal('11504.54901')), (datetime.date(2020, 10, 16), Decimal('11355.16044')), (datetime.date(2020, 10, 17), Decimal('11358.70638')), (datetime.date(2020, 10, 18), Decimal('11471.00255')), (datetime.date(2020, 10, 19), Decimal('11776.593')), (datetime.date(2020, 10, 20), Decimal('11936.36291')), (datetime.date(2020, 10, 21), Decimal('13102.93446')), (datetime.date(2020, 10, 22), Decimal('13140.66928')), (datetime.date(2020, 10, 23), Decimal('12933.82357')), (datetime.date(2020, 10, 24), Decimal('13081.67256')), (datetime.date(2020, 10, 25), Decimal('13008.45326')), (datetime.date(2020, 10, 26), Decimal('13033.52427')), (datetime.date(2020, 10, 27), Decimal('13721.28222')), (datetime.date(2020, 10, 28), Decimal('13282.26035')), (datetime.date(2020, 10, 29), Decimal('13467.73178')), (datetime.date(2020, 10, 30), Decimal('13573.7105')), (datetime.date(2020, 10, 31), Decimal('13891.21683')), (datetime.date(2020, 11, 1), Decimal('13730.19731')), (datetime.date(2020, 11, 2), Decimal('13633.69822')), (datetime.date(2020, 11, 3), Decimal('13832.93841')), (datetime.date(2020, 11, 4), Decimal('14163.97682')), (datetime.date(2020, 11, 5), Decimal('15424.52768')), (datetime.date(2020, 11, 6), Decimal('15540.59659')), (datetime.date(2020, 11, 7), Decimal('14783.98168')), (datetime.date(2020, 11, 8), Decimal('15500.33425')), (datetime.date(2020, 11, 9), Decimal('15283.78014')), (datetime.date(2020, 11, 10), Decimal('15374.04439')), (datetime.date(2020, 11, 11), Decimal('15820.49524')), (datetime.date(2020, 11, 12), Decimal('16253.31027')), (datetime.date(2020, 11, 13), Decimal('16347.04492')), (datetime.date(2020, 11, 14), Decimal('15991.83302')), (datetime.date(2020, 11, 15), Decimal('15918.08013')), (datetime.date(2020, 11, 16), Decimal('16752.00299')), (datetime.date(2020, 11, 17), Decimal('17593.48641')), (datetime.date(2020, 11, 18), Decimal('17834.63653')), (datetime.date(2020, 11, 19), Decimal('17954.85801')), (datetime.date(2020, 11, 20), Decimal('18612.87067')), (datetime.date(2020, 11, 21), Decimal('18591.8566')), (datetime.date(2020, 11, 22), Decimal('18629.99554')), (datetime.date(2020, 11, 23), Decimal('18469.20047')), (datetime.date(2020, 11, 24), Decimal('19045.73647')), (datetime.date(2020, 11, 25), Decimal('18746.93481')), (datetime.date(2020, 11, 26), Decimal('17187.40628')), (datetime.date(2020, 11, 27), Decimal('17023.9614')), (datetime.date(2020, 11, 28), Decimal('17814.78028')), (datetime.date(2020, 11, 29), Decimal('18114.41435')), (datetime.date(2020, 11, 30), Decimal('19382.36059')), (datetime.date(2020, 12, 1), Decimal('18980.97745')), (datetime.date(2020, 12, 2), Decimal('19184.89785')), (datetime.date(2020, 12, 3), Decimal('19464.5317')), (datetime.date(2020, 12, 4), Decimal('18813.12476')), (datetime.date(2020, 12, 5), Decimal('19045.02027')), (datetime.date(2020, 12, 6), Decimal('19113.9334')), (datetime.date(2020, 12, 7), Decimal('19107.5998')), (datetime.date(2020, 12, 8), Decimal('18682.45783')), (datetime.date(2020, 12, 9), Decimal('18543.00705')), (datetime.date(2020, 12, 10), Decimal('18359.4766')), (datetime.date(2020, 12, 11), Decimal('18137.31937')), (datetime.date(2020, 12, 12), Decimal('18882.26017')), (datetime.date(2020, 12, 13), Decimal('19060.2769')), (datetime.date(2020, 12, 14), Decimal('19251.224')), (datetime.date(2020, 12, 15), Decimal('19443.47635')), (datetime.date(2020, 12, 16), Decimal('21310.65626')), (datetime.date(2020, 12, 17), Decimal('22895.97624')), (datetime.date(2020, 12, 18), Decimal('23008.77626')), (datetime.date(2020, 12, 19), Decimal('23890.82265')), (datetime.date(2020, 12, 20), Decimal('23537.36989')), (datetime.date(2020, 12, 21), Decimal('23177.271')), (datetime.date(2020, 12, 22), Decimal('23433.98076')), (datetime.date(2020, 12, 23), Decimal('23224.45414')), (datetime.date(2020, 12, 24), Decimal('23623.88553')), (datetime.date(2020, 12, 25), Decimal('24581.00617')), (datetime.date(2020, 12, 26), Decimal('26381.29623')), (datetime.date(2020, 12, 27), Decimal('26389.29026')), (datetime.date(2020, 12, 28), Decimal('26718.02946')), (datetime.date(2020, 12, 29), Decimal('26975.72956')), (datetime.date(2020, 12, 30), Decimal('28768.83621')), (datetime.date(2020, 12, 31), Decimal('29111.52157')), (datetime.date(2021, 1, 1), Decimal('29333.60512')), (datetime.date(2021, 1, 2), Decimal('32154.16736')), (datetime.date(2021, 1, 3), Decimal('33002.53643')), (datetime.date(2021, 1, 4), Decimal('31431.61228')), (datetime.date(2021, 1, 5), Decimal('34433.60651')), (datetime.date(2021, 1, 6), Decimal('36275.75635')), (datetime.date(2021, 1, 7), Decimal('39713.50786')), (datetime.date(2021, 1, 8), Decimal('40519.4486')), (datetime.date(2021, 1, 9), Decimal('40258.92399')), (datetime.date(2021, 1, 10), Decimal('38709.76537')), (datetime.date(2021, 1, 11), Decimal('34409.64238')), (datetime.date(2021, 1, 12), Decimal('34214.61026')), (datetime.date(2021, 1, 13), Decimal('37017.0075')), (datetime.date(2021, 1, 14), Decimal('38435.86351')), (datetime.date(2021, 1, 15), Decimal('36751.58497')), (datetime.date(2021, 1, 16), Decimal('36016.77961')), (datetime.date(2021, 1, 17), Decimal('36375.81138')), (datetime.date(2021, 1, 18), Decimal('36346.6095')), (datetime.date(2021, 1, 19), Decimal('36577.51965')), (datetime.date(2021, 1, 20), Decimal('35004.53263')), (datetime.date(2021, 1, 21), Decimal('30606.18268')), (datetime.date(2021, 1, 22), Decimal('33368.36593')), (datetime.date(2021, 1, 23), Decimal('32070.09743')), (datetime.date(2021, 1, 24), Decimal('32285.72613')), (datetime.date(2021, 1, 25), Decimal('32500.25596')), (datetime.date(2021, 1, 26), Decimal('32324.55565')), (datetime.date(2021, 1, 27), Decimal('30534.99937')), (datetime.date(2021, 1, 28), Decimal('33408.21834')), (datetime.date(2021, 1, 29), Decimal('34842.55739')), (datetime.date(2021, 1, 30), Decimal('34622.37323')), (datetime.date(2021, 1, 31), Decimal('33087.36986')), (datetime.date(2021, 2, 1), Decimal('33613.32076')), (datetime.date(2021, 2, 2), Decimal('35632.90195')), (datetime.date(2021, 2, 3), Decimal('37397.42636')), (datetime.date(2021, 2, 4), Decimal('37256.25211'))]\n"
     ]
    }
   ],
   "source": [
    "# Perform a query to retrieve the prices\n",
    "bit_prices = session.query(Bitcoin.date,Bitcoin.closing_price).filter(Bitcoin.date <= dt.date(2021, 2, 4),Bitcoin.date >= dt.date(2020, 2, 5)).all()\n",
    "print(prices)"
   ]
  },
  {
   "cell_type": "code",
   "execution_count": 68,
   "metadata": {},
   "outputs": [
    {
     "data": {
      "text/html": [
       "<div>\n",
       "<style scoped>\n",
       "    .dataframe tbody tr th:only-of-type {\n",
       "        vertical-align: middle;\n",
       "    }\n",
       "\n",
       "    .dataframe tbody tr th {\n",
       "        vertical-align: top;\n",
       "    }\n",
       "\n",
       "    .dataframe thead th {\n",
       "        text-align: right;\n",
       "    }\n",
       "</style>\n",
       "<table border=\"1\" class=\"dataframe\">\n",
       "  <thead>\n",
       "    <tr style=\"text-align: right;\">\n",
       "      <th></th>\n",
       "      <th>closing_price</th>\n",
       "    </tr>\n",
       "    <tr>\n",
       "      <th>date</th>\n",
       "      <th></th>\n",
       "    </tr>\n",
       "  </thead>\n",
       "  <tbody>\n",
       "    <tr>\n",
       "      <th>2020-02-05</th>\n",
       "      <td>9625.456637</td>\n",
       "    </tr>\n",
       "    <tr>\n",
       "      <th>2020-02-06</th>\n",
       "      <td>9681.377411</td>\n",
       "    </tr>\n",
       "    <tr>\n",
       "      <th>2020-02-07</th>\n",
       "      <td>9795.344066</td>\n",
       "    </tr>\n",
       "    <tr>\n",
       "      <th>2020-02-08</th>\n",
       "      <td>9927.778256</td>\n",
       "    </tr>\n",
       "    <tr>\n",
       "      <th>2020-02-09</th>\n",
       "      <td>10132.7065</td>\n",
       "    </tr>\n",
       "  </tbody>\n",
       "</table>\n",
       "</div>"
      ],
      "text/plain": [
       "           closing_price\n",
       "date                    \n",
       "2020-02-05   9625.456637\n",
       "2020-02-06   9681.377411\n",
       "2020-02-07   9795.344066\n",
       "2020-02-08   9927.778256\n",
       "2020-02-09    10132.7065"
      ]
     },
     "execution_count": 68,
     "metadata": {},
     "output_type": "execute_result"
    }
   ],
   "source": [
    "# Save results in DF\n",
    "bit_prices_df= pd.DataFrame(bit_prices)\n",
    "bit_prices_df.set_index(\"date\", inplace=True)\n",
    "bit_prices_df.head()"
   ]
  },
  {
   "cell_type": "code",
   "execution_count": 71,
   "metadata": {},
   "outputs": [
    {
     "name": "stdout",
     "output_type": "stream",
     "text": [
      "[(datetime.date(2020, 2, 5), Decimal('9508.679688')), (datetime.date(2020, 2, 6), Decimal('9572.150391')), (datetime.date(2020, 2, 7), Decimal('9520.509766')), (datetime.date(2020, 2, 10), Decimal('9628.389648')), (datetime.date(2020, 2, 11), Decimal('9638.94043')), (datetime.date(2020, 2, 12), Decimal('9725.959961')), (datetime.date(2020, 2, 13), Decimal('9711.969727')), (datetime.date(2020, 2, 14), Decimal('9731.179688')), (datetime.date(2020, 2, 18), Decimal('9732.740234')), (datetime.date(2020, 2, 19), Decimal('9817.179688')), (datetime.date(2020, 2, 20), Decimal('9750.969727')), (datetime.date(2020, 2, 21), Decimal('9576.589844')), (datetime.date(2020, 2, 24), Decimal('9221.280273')), (datetime.date(2020, 2, 25), Decimal('8965.610352')), (datetime.date(2020, 2, 26), Decimal('8980.780273')), (datetime.date(2020, 2, 27), Decimal('8566.480469')), (datetime.date(2020, 2, 28), Decimal('8567.370117')), (datetime.date(2020, 3, 2), Decimal('8952.169922')), (datetime.date(2020, 3, 3), Decimal('8684.089844')), (datetime.date(2020, 3, 4), Decimal('9018.089844')), (datetime.date(2020, 3, 5), Decimal('8738.589844')), (datetime.date(2020, 3, 6), Decimal('8575.620117')), (datetime.date(2020, 3, 9), Decimal('7950.680176')), (datetime.date(2020, 3, 10), Decimal('8344.25')), (datetime.date(2020, 3, 11), Decimal('7952.049805')), (datetime.date(2020, 3, 12), Decimal('7201.799805')), (datetime.date(2020, 3, 13), Decimal('7874.879883')), (datetime.date(2020, 3, 16), Decimal('6904.589844')), (datetime.date(2020, 3, 17), Decimal('7334.779785')), (datetime.date(2020, 3, 18), Decimal('6989.839844')), (datetime.date(2020, 3, 19), Decimal('7150.580078')), (datetime.date(2020, 3, 20), Decimal('6879.52002')), (datetime.date(2020, 3, 23), Decimal('6860.669922')), (datetime.date(2020, 3, 24), Decimal('7417.859863')), (datetime.date(2020, 3, 25), Decimal('7384.299805')), (datetime.date(2020, 3, 26), Decimal('7797.540039')), (datetime.date(2020, 3, 27), Decimal('7502.379883')), (datetime.date(2020, 3, 30), Decimal('7774.149902')), (datetime.date(2020, 3, 31), Decimal('7700.100098')), (datetime.date(2020, 4, 1), Decimal('7360.580078')), (datetime.date(2020, 4, 2), Decimal('7487.310059')), (datetime.date(2020, 4, 3), Decimal('7373.080078')), (datetime.date(2020, 4, 6), Decimal('7913.240234')), (datetime.date(2020, 4, 7), Decimal('7887.259766')), (datetime.date(2020, 4, 8), Decimal('8090.899902')), (datetime.date(2020, 4, 9), Decimal('8153.580078')), (datetime.date(2020, 4, 13), Decimal('8192.419922')), (datetime.date(2020, 4, 14), Decimal('8515.740234')), (datetime.date(2020, 4, 15), Decimal('8393.179688')), (datetime.date(2020, 4, 16), Decimal('8532.360352')), (datetime.date(2020, 4, 17), Decimal('8650.139648')), (datetime.date(2020, 4, 20), Decimal('8560.730469')), (datetime.date(2020, 4, 21), Decimal('8263.230469')), (datetime.date(2020, 4, 22), Decimal('8495.379883')), (datetime.date(2020, 4, 23), Decimal('8494.75')), (datetime.date(2020, 4, 24), Decimal('8634.519531')), (datetime.date(2020, 4, 27), Decimal('8730.160156')), (datetime.date(2020, 4, 28), Decimal('8607.730469')), (datetime.date(2020, 4, 29), Decimal('8914.709961')), (datetime.date(2020, 4, 30), Decimal('8889.549805')), (datetime.date(2020, 5, 1), Decimal('8604.950195')), (datetime.date(2020, 5, 4), Decimal('8710.709961')), (datetime.date(2020, 5, 5), Decimal('8809.120117')), (datetime.date(2020, 5, 6), Decimal('8854.389648')), (datetime.date(2020, 5, 7), Decimal('8979.660156')), (datetime.date(2020, 5, 8), Decimal('9121.320313')), (datetime.date(2020, 5, 11), Decimal('9192.339844')), (datetime.date(2020, 5, 12), Decimal('9002.549805')), (datetime.date(2020, 5, 13), Decimal('8863.169922')), (datetime.date(2020, 5, 14), Decimal('8943.719727')), (datetime.date(2020, 5, 15), Decimal('9014.55957')), (datetime.date(2020, 5, 18), Decimal('9234.830078')), (datetime.date(2020, 5, 19), Decimal('9185.099609')), (datetime.date(2020, 5, 20), Decimal('9375.780273')), (datetime.date(2020, 5, 21), Decimal('9284.879883')), (datetime.date(2020, 5, 22), Decimal('9324.589844')), (datetime.date(2020, 5, 26), Decimal('9340.219727')), (datetime.date(2020, 5, 27), Decimal('9412.360352')), (datetime.date(2020, 5, 28), Decimal('9368.990234')), (datetime.date(2020, 5, 29), Decimal('9489.870117')), (datetime.date(2020, 6, 1), Decimal('9552.049805')), (datetime.date(2020, 6, 2), Decimal('9608.379883')), (datetime.date(2020, 6, 3), Decimal('9682.910156')), (datetime.date(2020, 6, 4), Decimal('9615.80957')), (datetime.date(2020, 6, 5), Decimal('9814.080078')), (datetime.date(2020, 6, 8), Decimal('9924.75')), (datetime.date(2020, 6, 9), Decimal('9953.75')), (datetime.date(2020, 6, 10), Decimal('10020.34961')), (datetime.date(2020, 6, 11), Decimal('9492.730469')), (datetime.date(2020, 6, 12), Decimal('9588.80957')), (datetime.date(2020, 6, 15), Decimal('9726.019531')), (datetime.date(2020, 6, 16), Decimal('9895.870117')), (datetime.date(2020, 6, 17), Decimal('9910.530273')), (datetime.date(2020, 6, 18), Decimal('9943.049805')), (datetime.date(2020, 6, 19), Decimal('9946.120117')), (datetime.date(2020, 6, 22), Decimal('10056.48047')), (datetime.date(2020, 6, 23), Decimal('10131.37012')), (datetime.date(2020, 6, 24), Decimal('9909.169922')), (datetime.date(2020, 6, 25), Decimal('10017')), (datetime.date(2020, 6, 26), Decimal('9757.219727')), (datetime.date(2020, 6, 29), Decimal('9874.150391')), (datetime.date(2020, 6, 30), Decimal('10058.76953')), (datetime.date(2020, 7, 1), Decimal('10154.62988')), (datetime.date(2020, 7, 2), Decimal('10207.62988')), (datetime.date(2020, 7, 6), Decimal('10433.65039')), (datetime.date(2020, 7, 7), Decimal('10343.88965')), (datetime.date(2020, 7, 8), Decimal('10492.5')), (datetime.date(2020, 7, 9), Decimal('10547.75')), (datetime.date(2020, 7, 10), Decimal('10617.44043')), (datetime.date(2020, 7, 13), Decimal('10390.83984')), (datetime.date(2020, 7, 14), Decimal('10488.58008')), (datetime.date(2020, 7, 15), Decimal('10550.49023')), (datetime.date(2020, 7, 16), Decimal('10473.83008')), (datetime.date(2020, 7, 17), Decimal('10503.19043')), (datetime.date(2020, 7, 20), Decimal('10767.08984')), (datetime.date(2020, 7, 21), Decimal('10680.36035')), (datetime.date(2020, 7, 22), Decimal('10706.12988')), (datetime.date(2020, 7, 23), Decimal('10461.41992')), (datetime.date(2020, 7, 24), Decimal('10363.17969')), (datetime.date(2020, 7, 27), Decimal('10536.26953')), (datetime.date(2020, 7, 28), Decimal('10402.08984')), (datetime.date(2020, 7, 29), Decimal('10542.94043')), (datetime.date(2020, 7, 30), Decimal('10587.80957')), (datetime.date(2020, 7, 31), Decimal('10745.26953')), (datetime.date(2020, 8, 3), Decimal('10902.79981')), (datetime.date(2020, 8, 4), Decimal('10941.16992')), (datetime.date(2020, 8, 5), Decimal('10998.40039')), (datetime.date(2020, 8, 6), Decimal('11108.07031')), (datetime.date(2020, 8, 7), Decimal('11010.98047')), (datetime.date(2020, 8, 10), Decimal('10968.36035')), (datetime.date(2020, 8, 11), Decimal('10782.82031')), (datetime.date(2020, 8, 12), Decimal('11012.24023')), (datetime.date(2020, 8, 13), Decimal('11042.5')), (datetime.date(2020, 8, 14), Decimal('11019.29981')), (datetime.date(2020, 8, 17), Decimal('11129.73047')), (datetime.date(2020, 8, 18), Decimal('11210.83984')), (datetime.date(2020, 8, 19), Decimal('11146.45996')), (datetime.date(2020, 8, 20), Decimal('11264.9502')), (datetime.date(2020, 8, 21), Decimal('11311.79981')), (datetime.date(2020, 8, 24), Decimal('11379.71973')), (datetime.date(2020, 8, 25), Decimal('11466.46973')), (datetime.date(2020, 8, 26), Decimal('11665.05957')), (datetime.date(2020, 8, 27), Decimal('11625.33984')), (datetime.date(2020, 8, 28), Decimal('11695.62988')), (datetime.date(2020, 8, 31), Decimal('11775.45996')), (datetime.date(2020, 9, 1), Decimal('11939.66992')), (datetime.date(2020, 9, 2), Decimal('12056.44043')), (datetime.date(2020, 9, 3), Decimal('11458.09961')), (datetime.date(2020, 9, 4), Decimal('11313.12988')), (datetime.date(2020, 9, 8), Decimal('10847.69043')), (datetime.date(2020, 9, 9), Decimal('11141.55957')), (datetime.date(2020, 9, 10), Decimal('10919.58984')), (datetime.date(2020, 9, 11), Decimal('10853.54981')), (datetime.date(2020, 9, 14), Decimal('11056.65039')), (datetime.date(2020, 9, 15), Decimal('11190.32031')), (datetime.date(2020, 9, 16), Decimal('11050.46973')), (datetime.date(2020, 9, 17), Decimal('10910.28027')), (datetime.date(2020, 9, 18), Decimal('10793.28027')), (datetime.date(2020, 9, 21), Decimal('10778.79981')), (datetime.date(2020, 9, 22), Decimal('10963.63965')), (datetime.date(2020, 9, 23), Decimal('10632.99023')), (datetime.date(2020, 9, 24), Decimal('10672.26953')), (datetime.date(2020, 9, 25), Decimal('10913.55957')), (datetime.date(2020, 9, 28), Decimal('11117.53027')), (datetime.date(2020, 9, 29), Decimal('11085.25')), (datetime.date(2020, 9, 30), Decimal('11167.50977')), (datetime.date(2020, 10, 1), Decimal('11326.50977')), (datetime.date(2020, 10, 2), Decimal('11075.01953')), (datetime.date(2020, 10, 5), Decimal('11332.49023')), (datetime.date(2020, 10, 6), Decimal('11154.59961')), (datetime.date(2020, 10, 7), Decimal('11364.59961')), (datetime.date(2020, 10, 8), Decimal('11420.98047')), (datetime.date(2020, 10, 9), Decimal('11579.94043')), (datetime.date(2020, 10, 12), Decimal('11876.25977')), (datetime.date(2020, 10, 13), Decimal('11863.90039')), (datetime.date(2020, 10, 14), Decimal('11768.73047')), (datetime.date(2020, 10, 15), Decimal('11713.87012')), (datetime.date(2020, 10, 16), Decimal('11671.55957')), (datetime.date(2020, 10, 19), Decimal('11478.87988')), (datetime.date(2020, 10, 20), Decimal('11516.49023')), (datetime.date(2020, 10, 21), Decimal('11484.69043')), (datetime.date(2020, 10, 22), Decimal('11506.00977')), (datetime.date(2020, 10, 23), Decimal('11548.28027')), (datetime.date(2020, 10, 26), Decimal('11358.94043')), (datetime.date(2020, 10, 27), Decimal('11431.34961')), (datetime.date(2020, 10, 28), Decimal('11004.87012')), (datetime.date(2020, 10, 29), Decimal('11185.58984')), (datetime.date(2020, 10, 30), Decimal('10911.58984')), (datetime.date(2020, 11, 2), Decimal('10957.61035')), (datetime.date(2020, 11, 3), Decimal('11160.57031')), (datetime.date(2020, 11, 4), Decimal('11590.78027')), (datetime.date(2020, 11, 5), Decimal('11890.92969')), (datetime.date(2020, 11, 6), Decimal('11895.23047')), (datetime.date(2020, 11, 9), Decimal('11713.78027')), (datetime.date(2020, 11, 10), Decimal('11553.86035')), (datetime.date(2020, 11, 11), Decimal('11786.42969')), (datetime.date(2020, 11, 12), Decimal('11709.58984')), (datetime.date(2020, 11, 13), Decimal('11829.29004')), (datetime.date(2020, 11, 16), Decimal('11924.12988')), (datetime.date(2020, 11, 17), Decimal('11899.33984')), (datetime.date(2020, 11, 18), Decimal('11801.59961')), (datetime.date(2020, 11, 19), Decimal('11904.70996')), (datetime.date(2020, 11, 20), Decimal('11854.96973')), (datetime.date(2020, 11, 23), Decimal('11880.62988')), (datetime.date(2020, 11, 24), Decimal('12036.79004')), (datetime.date(2020, 11, 25), Decimal('12094.40039')), (datetime.date(2020, 11, 27), Decimal('12205.84961')), (datetime.date(2020, 11, 30), Decimal('12198.74023')), (datetime.date(2020, 12, 1), Decimal('12355.11035')), (datetime.date(2020, 12, 2), Decimal('12349.37012')), (datetime.date(2020, 12, 3), Decimal('12377.17969')), (datetime.date(2020, 12, 4), Decimal('12464.23047')), (datetime.date(2020, 12, 7), Decimal('12519.9502')), (datetime.date(2020, 12, 8), Decimal('12582.76953')), (datetime.date(2020, 12, 9), Decimal('12338.9502')), (datetime.date(2020, 12, 10), Decimal('12405.80957')), (datetime.date(2020, 12, 11), Decimal('12377.87012')), (datetime.date(2020, 12, 14), Decimal('12440.04004')), (datetime.date(2020, 12, 15), Decimal('12595.05957')), (datetime.date(2020, 12, 16), Decimal('12658.19043')), (datetime.date(2020, 12, 17), Decimal('12764.75')), (datetime.date(2020, 12, 18), Decimal('12755.63965')), (datetime.date(2020, 12, 21), Decimal('12742.51953')), (datetime.date(2020, 12, 22), Decimal('12807.91992')), (datetime.date(2020, 12, 23), Decimal('12771.11035')), (datetime.date(2020, 12, 24), Decimal('12804.73047')), (datetime.date(2020, 12, 28), Decimal('12899.41992')), (datetime.date(2020, 12, 29), Decimal('12850.21973')), (datetime.date(2020, 12, 30), Decimal('12870')), (datetime.date(2020, 12, 31), Decimal('12888.28027')), (datetime.date(2021, 1, 4), Decimal('12698.4502')), (datetime.date(2021, 1, 5), Decimal('12818.95996')), (datetime.date(2021, 1, 6), Decimal('12740.79004')), (datetime.date(2021, 1, 7), Decimal('13067.48047')), (datetime.date(2021, 1, 8), Decimal('13201.98047')), (datetime.date(2021, 1, 11), Decimal('13036.42969')), (datetime.date(2021, 1, 12), Decimal('13072.42969')), (datetime.date(2021, 1, 13), Decimal('13128.9502')), (datetime.date(2021, 1, 14), Decimal('13112.63965')), (datetime.date(2021, 1, 15), Decimal('12998.5')), (datetime.date(2021, 1, 19), Decimal('13197.17969')), (datetime.date(2021, 1, 20), Decimal('13457.25')), (datetime.date(2021, 1, 21), Decimal('13530.91016')), (datetime.date(2021, 1, 22), Decimal('13543.05957')), (datetime.date(2021, 1, 25), Decimal('13635.99023')), (datetime.date(2021, 1, 26), Decimal('13626.05957')), (datetime.date(2021, 1, 27), Decimal('13270.59961')), (datetime.date(2021, 1, 28), Decimal('13337.16016')), (datetime.date(2021, 1, 29), Decimal('13070.69043'))]\n"
     ]
    }
   ],
   "source": [
    "# Use same dates for Nasdaq\n",
    "ndaq_prices = session.query(Nasdaqs.date,Nasdaqs.closing_price).filter(Nasdaqs.date <= dt.date(2021, 2, 4),Nasdaqs.date >= dt.date(2020, 2, 5)).all()\n",
    "print(ndaq_prices)"
   ]
  },
  {
   "cell_type": "code",
   "execution_count": 73,
   "metadata": {},
   "outputs": [
    {
     "data": {
      "text/html": [
       "<div>\n",
       "<style scoped>\n",
       "    .dataframe tbody tr th:only-of-type {\n",
       "        vertical-align: middle;\n",
       "    }\n",
       "\n",
       "    .dataframe tbody tr th {\n",
       "        vertical-align: top;\n",
       "    }\n",
       "\n",
       "    .dataframe thead th {\n",
       "        text-align: right;\n",
       "    }\n",
       "</style>\n",
       "<table border=\"1\" class=\"dataframe\">\n",
       "  <thead>\n",
       "    <tr style=\"text-align: right;\">\n",
       "      <th></th>\n",
       "      <th>closing_price</th>\n",
       "    </tr>\n",
       "    <tr>\n",
       "      <th>date</th>\n",
       "      <th></th>\n",
       "    </tr>\n",
       "  </thead>\n",
       "  <tbody>\n",
       "    <tr>\n",
       "      <th>2020-02-05</th>\n",
       "      <td>9508.679688</td>\n",
       "    </tr>\n",
       "    <tr>\n",
       "      <th>2020-02-06</th>\n",
       "      <td>9572.150391</td>\n",
       "    </tr>\n",
       "    <tr>\n",
       "      <th>2020-02-07</th>\n",
       "      <td>9520.509766</td>\n",
       "    </tr>\n",
       "    <tr>\n",
       "      <th>2020-02-10</th>\n",
       "      <td>9628.389648</td>\n",
       "    </tr>\n",
       "    <tr>\n",
       "      <th>2020-02-11</th>\n",
       "      <td>9638.94043</td>\n",
       "    </tr>\n",
       "  </tbody>\n",
       "</table>\n",
       "</div>"
      ],
      "text/plain": [
       "           closing_price\n",
       "date                    \n",
       "2020-02-05   9508.679688\n",
       "2020-02-06   9572.150391\n",
       "2020-02-07   9520.509766\n",
       "2020-02-10   9628.389648\n",
       "2020-02-11    9638.94043"
      ]
     },
     "execution_count": 73,
     "metadata": {},
     "output_type": "execute_result"
    }
   ],
   "source": [
    "# Save results in DF\n",
    "ndaq_prices_df= pd.DataFrame(ndaq_prices)\n",
    "ndaq_prices_df.set_index(\"date\", inplace=True)\n",
    "ndaq_prices_df.head()"
   ]
  },
  {
   "cell_type": "code",
   "execution_count": 74,
   "metadata": {},
   "outputs": [
    {
     "data": {
      "text/html": [
       "<div>\n",
       "<style scoped>\n",
       "    .dataframe tbody tr th:only-of-type {\n",
       "        vertical-align: middle;\n",
       "    }\n",
       "\n",
       "    .dataframe tbody tr th {\n",
       "        vertical-align: top;\n",
       "    }\n",
       "\n",
       "    .dataframe thead th {\n",
       "        text-align: right;\n",
       "    }\n",
       "</style>\n",
       "<table border=\"1\" class=\"dataframe\">\n",
       "  <thead>\n",
       "    <tr style=\"text-align: right;\">\n",
       "      <th></th>\n",
       "      <th>closing_price</th>\n",
       "    </tr>\n",
       "  </thead>\n",
       "  <tbody>\n",
       "    <tr>\n",
       "      <th>count</th>\n",
       "      <td>249</td>\n",
       "    </tr>\n",
       "    <tr>\n",
       "      <th>unique</th>\n",
       "      <td>249</td>\n",
       "    </tr>\n",
       "    <tr>\n",
       "      <th>top</th>\n",
       "      <td>10550.49023</td>\n",
       "    </tr>\n",
       "    <tr>\n",
       "      <th>freq</th>\n",
       "      <td>1</td>\n",
       "    </tr>\n",
       "  </tbody>\n",
       "</table>\n",
       "</div>"
      ],
      "text/plain": [
       "       closing_price\n",
       "count            249\n",
       "unique           249\n",
       "top      10550.49023\n",
       "freq               1"
      ]
     },
     "execution_count": 74,
     "metadata": {},
     "output_type": "execute_result"
    }
   ],
   "source": [
    "# Calculate summary statistics for NDAQ\n",
    "ndaq_prices_df.describe()"
   ]
  },
  {
   "cell_type": "code",
   "execution_count": 75,
   "metadata": {},
   "outputs": [
    {
     "data": {
      "text/html": [
       "<div>\n",
       "<style scoped>\n",
       "    .dataframe tbody tr th:only-of-type {\n",
       "        vertical-align: middle;\n",
       "    }\n",
       "\n",
       "    .dataframe tbody tr th {\n",
       "        vertical-align: top;\n",
       "    }\n",
       "\n",
       "    .dataframe thead th {\n",
       "        text-align: right;\n",
       "    }\n",
       "</style>\n",
       "<table border=\"1\" class=\"dataframe\">\n",
       "  <thead>\n",
       "    <tr style=\"text-align: right;\">\n",
       "      <th></th>\n",
       "      <th>closing_price</th>\n",
       "    </tr>\n",
       "  </thead>\n",
       "  <tbody>\n",
       "    <tr>\n",
       "      <th>count</th>\n",
       "      <td>366</td>\n",
       "    </tr>\n",
       "    <tr>\n",
       "      <th>unique</th>\n",
       "      <td>366</td>\n",
       "    </tr>\n",
       "    <tr>\n",
       "      <th>top</th>\n",
       "      <td>7875.750875</td>\n",
       "    </tr>\n",
       "    <tr>\n",
       "      <th>freq</th>\n",
       "      <td>1</td>\n",
       "    </tr>\n",
       "  </tbody>\n",
       "</table>\n",
       "</div>"
      ],
      "text/plain": [
       "       closing_price\n",
       "count            366\n",
       "unique           366\n",
       "top      7875.750875\n",
       "freq               1"
      ]
     },
     "execution_count": 75,
     "metadata": {},
     "output_type": "execute_result"
    }
   ],
   "source": [
    "# Calculate the summary statistics for Bitcoin\n",
    "bit_prices_df.describe()"
   ]
  },
  {
   "cell_type": "code",
   "execution_count": 63,
   "metadata": {},
   "outputs": [],
   "source": [
    "# Import Dependencies\n",
    "%matplotlib inline\n",
    "from matplotlib import style\n",
    "style.use('fivethirtyeight')\n",
    "import matplotlib.pyplot as plt\n",
    "import numpy as np"
   ]
  },
  {
   "cell_type": "code",
   "execution_count": null,
   "metadata": {},
   "outputs": [],
   "source": []
  }
 ],
 "metadata": {
  "kernelspec": {
   "display_name": "Python 3",
   "language": "python",
   "name": "python3"
  },
  "language_info": {
   "codemirror_mode": {
    "name": "ipython",
    "version": 3
   },
   "file_extension": ".py",
   "mimetype": "text/x-python",
   "name": "python",
   "nbconvert_exporter": "python",
   "pygments_lexer": "ipython3",
   "version": "3.8.3"
  }
 },
 "nbformat": 4,
 "nbformat_minor": 4
}
